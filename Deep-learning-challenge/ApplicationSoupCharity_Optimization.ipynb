{
  "cells": [
    {
      "cell_type": "markdown",
      "metadata": {
        "id": "H2f_WOgyViqx"
      },
      "source": [
        "## Preprocessing"
      ]
    },
    {
      "cell_type": "code",
      "execution_count": 25,
      "metadata": {
        "colab": {
          "base_uri": "https://localhost:8080/",
          "height": 451
        },
        "id": "sUKGzktWViqz",
        "outputId": "e69425c3-77b3-4605-c2ff-70bce5b1b436"
      },
      "outputs": [
        {
          "output_type": "execute_result",
          "data": {
            "text/plain": [
              "        EIN                                      NAME APPLICATION_TYPE  \\\n",
              "0  10520599              BLUE KNIGHTS MOTORCYCLE CLUB              T10   \n",
              "1  10531628    AMERICAN CHESAPEAKE CLUB CHARITABLE TR               T3   \n",
              "2  10547893        ST CLOUD PROFESSIONAL FIREFIGHTERS               T5   \n",
              "3  10553066            SOUTHSIDE ATHLETIC ASSOCIATION               T3   \n",
              "4  10556103  GENETIC RESEARCH INSTITUTE OF THE DESERT               T3   \n",
              "\n",
              "        AFFILIATION CLASSIFICATION      USE_CASE  ORGANIZATION  STATUS  \\\n",
              "0       Independent          C1000    ProductDev   Association       1   \n",
              "1       Independent          C2000  Preservation  Co-operative       1   \n",
              "2  CompanySponsored          C3000    ProductDev   Association       1   \n",
              "3  CompanySponsored          C2000  Preservation         Trust       1   \n",
              "4       Independent          C1000     Heathcare         Trust       1   \n",
              "\n",
              "      INCOME_AMT SPECIAL_CONSIDERATIONS  ASK_AMT  IS_SUCCESSFUL  \n",
              "0              0                      N     5000              1  \n",
              "1         1-9999                      N   108590              1  \n",
              "2              0                      N     5000              0  \n",
              "3    10000-24999                      N     6692              1  \n",
              "4  100000-499999                      N   142590              1  "
            ],
            "text/html": [
              "\n",
              "  <div id=\"df-5e8b7b47-5a5b-455a-8814-8a3696182a26\" class=\"colab-df-container\">\n",
              "    <div>\n",
              "<style scoped>\n",
              "    .dataframe tbody tr th:only-of-type {\n",
              "        vertical-align: middle;\n",
              "    }\n",
              "\n",
              "    .dataframe tbody tr th {\n",
              "        vertical-align: top;\n",
              "    }\n",
              "\n",
              "    .dataframe thead th {\n",
              "        text-align: right;\n",
              "    }\n",
              "</style>\n",
              "<table border=\"1\" class=\"dataframe\">\n",
              "  <thead>\n",
              "    <tr style=\"text-align: right;\">\n",
              "      <th></th>\n",
              "      <th>EIN</th>\n",
              "      <th>NAME</th>\n",
              "      <th>APPLICATION_TYPE</th>\n",
              "      <th>AFFILIATION</th>\n",
              "      <th>CLASSIFICATION</th>\n",
              "      <th>USE_CASE</th>\n",
              "      <th>ORGANIZATION</th>\n",
              "      <th>STATUS</th>\n",
              "      <th>INCOME_AMT</th>\n",
              "      <th>SPECIAL_CONSIDERATIONS</th>\n",
              "      <th>ASK_AMT</th>\n",
              "      <th>IS_SUCCESSFUL</th>\n",
              "    </tr>\n",
              "  </thead>\n",
              "  <tbody>\n",
              "    <tr>\n",
              "      <th>0</th>\n",
              "      <td>10520599</td>\n",
              "      <td>BLUE KNIGHTS MOTORCYCLE CLUB</td>\n",
              "      <td>T10</td>\n",
              "      <td>Independent</td>\n",
              "      <td>C1000</td>\n",
              "      <td>ProductDev</td>\n",
              "      <td>Association</td>\n",
              "      <td>1</td>\n",
              "      <td>0</td>\n",
              "      <td>N</td>\n",
              "      <td>5000</td>\n",
              "      <td>1</td>\n",
              "    </tr>\n",
              "    <tr>\n",
              "      <th>1</th>\n",
              "      <td>10531628</td>\n",
              "      <td>AMERICAN CHESAPEAKE CLUB CHARITABLE TR</td>\n",
              "      <td>T3</td>\n",
              "      <td>Independent</td>\n",
              "      <td>C2000</td>\n",
              "      <td>Preservation</td>\n",
              "      <td>Co-operative</td>\n",
              "      <td>1</td>\n",
              "      <td>1-9999</td>\n",
              "      <td>N</td>\n",
              "      <td>108590</td>\n",
              "      <td>1</td>\n",
              "    </tr>\n",
              "    <tr>\n",
              "      <th>2</th>\n",
              "      <td>10547893</td>\n",
              "      <td>ST CLOUD PROFESSIONAL FIREFIGHTERS</td>\n",
              "      <td>T5</td>\n",
              "      <td>CompanySponsored</td>\n",
              "      <td>C3000</td>\n",
              "      <td>ProductDev</td>\n",
              "      <td>Association</td>\n",
              "      <td>1</td>\n",
              "      <td>0</td>\n",
              "      <td>N</td>\n",
              "      <td>5000</td>\n",
              "      <td>0</td>\n",
              "    </tr>\n",
              "    <tr>\n",
              "      <th>3</th>\n",
              "      <td>10553066</td>\n",
              "      <td>SOUTHSIDE ATHLETIC ASSOCIATION</td>\n",
              "      <td>T3</td>\n",
              "      <td>CompanySponsored</td>\n",
              "      <td>C2000</td>\n",
              "      <td>Preservation</td>\n",
              "      <td>Trust</td>\n",
              "      <td>1</td>\n",
              "      <td>10000-24999</td>\n",
              "      <td>N</td>\n",
              "      <td>6692</td>\n",
              "      <td>1</td>\n",
              "    </tr>\n",
              "    <tr>\n",
              "      <th>4</th>\n",
              "      <td>10556103</td>\n",
              "      <td>GENETIC RESEARCH INSTITUTE OF THE DESERT</td>\n",
              "      <td>T3</td>\n",
              "      <td>Independent</td>\n",
              "      <td>C1000</td>\n",
              "      <td>Heathcare</td>\n",
              "      <td>Trust</td>\n",
              "      <td>1</td>\n",
              "      <td>100000-499999</td>\n",
              "      <td>N</td>\n",
              "      <td>142590</td>\n",
              "      <td>1</td>\n",
              "    </tr>\n",
              "  </tbody>\n",
              "</table>\n",
              "</div>\n",
              "    <div class=\"colab-df-buttons\">\n",
              "\n",
              "  <div class=\"colab-df-container\">\n",
              "    <button class=\"colab-df-convert\" onclick=\"convertToInteractive('df-5e8b7b47-5a5b-455a-8814-8a3696182a26')\"\n",
              "            title=\"Convert this dataframe to an interactive table.\"\n",
              "            style=\"display:none;\">\n",
              "\n",
              "  <svg xmlns=\"http://www.w3.org/2000/svg\" height=\"24px\" viewBox=\"0 -960 960 960\">\n",
              "    <path d=\"M120-120v-720h720v720H120Zm60-500h600v-160H180v160Zm220 220h160v-160H400v160Zm0 220h160v-160H400v160ZM180-400h160v-160H180v160Zm440 0h160v-160H620v160ZM180-180h160v-160H180v160Zm440 0h160v-160H620v160Z\"/>\n",
              "  </svg>\n",
              "    </button>\n",
              "\n",
              "  <style>\n",
              "    .colab-df-container {\n",
              "      display:flex;\n",
              "      gap: 12px;\n",
              "    }\n",
              "\n",
              "    .colab-df-convert {\n",
              "      background-color: #E8F0FE;\n",
              "      border: none;\n",
              "      border-radius: 50%;\n",
              "      cursor: pointer;\n",
              "      display: none;\n",
              "      fill: #1967D2;\n",
              "      height: 32px;\n",
              "      padding: 0 0 0 0;\n",
              "      width: 32px;\n",
              "    }\n",
              "\n",
              "    .colab-df-convert:hover {\n",
              "      background-color: #E2EBFA;\n",
              "      box-shadow: 0px 1px 2px rgba(60, 64, 67, 0.3), 0px 1px 3px 1px rgba(60, 64, 67, 0.15);\n",
              "      fill: #174EA6;\n",
              "    }\n",
              "\n",
              "    .colab-df-buttons div {\n",
              "      margin-bottom: 4px;\n",
              "    }\n",
              "\n",
              "    [theme=dark] .colab-df-convert {\n",
              "      background-color: #3B4455;\n",
              "      fill: #D2E3FC;\n",
              "    }\n",
              "\n",
              "    [theme=dark] .colab-df-convert:hover {\n",
              "      background-color: #434B5C;\n",
              "      box-shadow: 0px 1px 3px 1px rgba(0, 0, 0, 0.15);\n",
              "      filter: drop-shadow(0px 1px 2px rgba(0, 0, 0, 0.3));\n",
              "      fill: #FFFFFF;\n",
              "    }\n",
              "  </style>\n",
              "\n",
              "    <script>\n",
              "      const buttonEl =\n",
              "        document.querySelector('#df-5e8b7b47-5a5b-455a-8814-8a3696182a26 button.colab-df-convert');\n",
              "      buttonEl.style.display =\n",
              "        google.colab.kernel.accessAllowed ? 'block' : 'none';\n",
              "\n",
              "      async function convertToInteractive(key) {\n",
              "        const element = document.querySelector('#df-5e8b7b47-5a5b-455a-8814-8a3696182a26');\n",
              "        const dataTable =\n",
              "          await google.colab.kernel.invokeFunction('convertToInteractive',\n",
              "                                                    [key], {});\n",
              "        if (!dataTable) return;\n",
              "\n",
              "        const docLinkHtml = 'Like what you see? Visit the ' +\n",
              "          '<a target=\"_blank\" href=https://colab.research.google.com/notebooks/data_table.ipynb>data table notebook</a>'\n",
              "          + ' to learn more about interactive tables.';\n",
              "        element.innerHTML = '';\n",
              "        dataTable['output_type'] = 'display_data';\n",
              "        await google.colab.output.renderOutput(dataTable, element);\n",
              "        const docLink = document.createElement('div');\n",
              "        docLink.innerHTML = docLinkHtml;\n",
              "        element.appendChild(docLink);\n",
              "      }\n",
              "    </script>\n",
              "  </div>\n",
              "\n",
              "\n",
              "<div id=\"df-24c8641b-78a4-4903-983f-6e797a65273d\">\n",
              "  <button class=\"colab-df-quickchart\" onclick=\"quickchart('df-24c8641b-78a4-4903-983f-6e797a65273d')\"\n",
              "            title=\"Suggest charts\"\n",
              "            style=\"display:none;\">\n",
              "\n",
              "<svg xmlns=\"http://www.w3.org/2000/svg\" height=\"24px\"viewBox=\"0 0 24 24\"\n",
              "     width=\"24px\">\n",
              "    <g>\n",
              "        <path d=\"M19 3H5c-1.1 0-2 .9-2 2v14c0 1.1.9 2 2 2h14c1.1 0 2-.9 2-2V5c0-1.1-.9-2-2-2zM9 17H7v-7h2v7zm4 0h-2V7h2v10zm4 0h-2v-4h2v4z\"/>\n",
              "    </g>\n",
              "</svg>\n",
              "  </button>\n",
              "\n",
              "<style>\n",
              "  .colab-df-quickchart {\n",
              "      --bg-color: #E8F0FE;\n",
              "      --fill-color: #1967D2;\n",
              "      --hover-bg-color: #E2EBFA;\n",
              "      --hover-fill-color: #174EA6;\n",
              "      --disabled-fill-color: #AAA;\n",
              "      --disabled-bg-color: #DDD;\n",
              "  }\n",
              "\n",
              "  [theme=dark] .colab-df-quickchart {\n",
              "      --bg-color: #3B4455;\n",
              "      --fill-color: #D2E3FC;\n",
              "      --hover-bg-color: #434B5C;\n",
              "      --hover-fill-color: #FFFFFF;\n",
              "      --disabled-bg-color: #3B4455;\n",
              "      --disabled-fill-color: #666;\n",
              "  }\n",
              "\n",
              "  .colab-df-quickchart {\n",
              "    background-color: var(--bg-color);\n",
              "    border: none;\n",
              "    border-radius: 50%;\n",
              "    cursor: pointer;\n",
              "    display: none;\n",
              "    fill: var(--fill-color);\n",
              "    height: 32px;\n",
              "    padding: 0;\n",
              "    width: 32px;\n",
              "  }\n",
              "\n",
              "  .colab-df-quickchart:hover {\n",
              "    background-color: var(--hover-bg-color);\n",
              "    box-shadow: 0 1px 2px rgba(60, 64, 67, 0.3), 0 1px 3px 1px rgba(60, 64, 67, 0.15);\n",
              "    fill: var(--button-hover-fill-color);\n",
              "  }\n",
              "\n",
              "  .colab-df-quickchart-complete:disabled,\n",
              "  .colab-df-quickchart-complete:disabled:hover {\n",
              "    background-color: var(--disabled-bg-color);\n",
              "    fill: var(--disabled-fill-color);\n",
              "    box-shadow: none;\n",
              "  }\n",
              "\n",
              "  .colab-df-spinner {\n",
              "    border: 2px solid var(--fill-color);\n",
              "    border-color: transparent;\n",
              "    border-bottom-color: var(--fill-color);\n",
              "    animation:\n",
              "      spin 1s steps(1) infinite;\n",
              "  }\n",
              "\n",
              "  @keyframes spin {\n",
              "    0% {\n",
              "      border-color: transparent;\n",
              "      border-bottom-color: var(--fill-color);\n",
              "      border-left-color: var(--fill-color);\n",
              "    }\n",
              "    20% {\n",
              "      border-color: transparent;\n",
              "      border-left-color: var(--fill-color);\n",
              "      border-top-color: var(--fill-color);\n",
              "    }\n",
              "    30% {\n",
              "      border-color: transparent;\n",
              "      border-left-color: var(--fill-color);\n",
              "      border-top-color: var(--fill-color);\n",
              "      border-right-color: var(--fill-color);\n",
              "    }\n",
              "    40% {\n",
              "      border-color: transparent;\n",
              "      border-right-color: var(--fill-color);\n",
              "      border-top-color: var(--fill-color);\n",
              "    }\n",
              "    60% {\n",
              "      border-color: transparent;\n",
              "      border-right-color: var(--fill-color);\n",
              "    }\n",
              "    80% {\n",
              "      border-color: transparent;\n",
              "      border-right-color: var(--fill-color);\n",
              "      border-bottom-color: var(--fill-color);\n",
              "    }\n",
              "    90% {\n",
              "      border-color: transparent;\n",
              "      border-bottom-color: var(--fill-color);\n",
              "    }\n",
              "  }\n",
              "</style>\n",
              "\n",
              "  <script>\n",
              "    async function quickchart(key) {\n",
              "      const quickchartButtonEl =\n",
              "        document.querySelector('#' + key + ' button');\n",
              "      quickchartButtonEl.disabled = true;  // To prevent multiple clicks.\n",
              "      quickchartButtonEl.classList.add('colab-df-spinner');\n",
              "      try {\n",
              "        const charts = await google.colab.kernel.invokeFunction(\n",
              "            'suggestCharts', [key], {});\n",
              "      } catch (error) {\n",
              "        console.error('Error during call to suggestCharts:', error);\n",
              "      }\n",
              "      quickchartButtonEl.classList.remove('colab-df-spinner');\n",
              "      quickchartButtonEl.classList.add('colab-df-quickchart-complete');\n",
              "    }\n",
              "    (() => {\n",
              "      let quickchartButtonEl =\n",
              "        document.querySelector('#df-24c8641b-78a4-4903-983f-6e797a65273d button');\n",
              "      quickchartButtonEl.style.display =\n",
              "        google.colab.kernel.accessAllowed ? 'block' : 'none';\n",
              "    })();\n",
              "  </script>\n",
              "</div>\n",
              "\n",
              "    </div>\n",
              "  </div>\n"
            ],
            "application/vnd.google.colaboratory.intrinsic+json": {
              "type": "dataframe",
              "variable_name": "application_df",
              "summary": "{\n  \"name\": \"application_df\",\n  \"rows\": 34299,\n  \"fields\": [\n    {\n      \"column\": \"EIN\",\n      \"properties\": {\n        \"dtype\": \"number\",\n        \"std\": 245147183,\n        \"min\": 10520599,\n        \"max\": 996086871,\n        \"num_unique_values\": 34299,\n        \"samples\": [\n          271598055,\n          900109768,\n          352562499\n        ],\n        \"semantic_type\": \"\",\n        \"description\": \"\"\n      }\n    },\n    {\n      \"column\": \"NAME\",\n      \"properties\": {\n        \"dtype\": \"string\",\n        \"num_unique_values\": 19568,\n        \"samples\": [\n          \"LOCAL 12 USW GOODYEAR INSTITUTE FORCAREER DEVELOPMENT\",\n          \"INTERNATION ASSOCIATION OF ELECTRICAL INSPECTORS\",\n          \"BRICKLAYERS & ALLIED CRAFTWORKERS LOCAL 13 VACATION FUND\"\n        ],\n        \"semantic_type\": \"\",\n        \"description\": \"\"\n      }\n    },\n    {\n      \"column\": \"APPLICATION_TYPE\",\n      \"properties\": {\n        \"dtype\": \"category\",\n        \"num_unique_values\": 17,\n        \"samples\": [\n          \"T10\",\n          \"T3\",\n          \"T6\"\n        ],\n        \"semantic_type\": \"\",\n        \"description\": \"\"\n      }\n    },\n    {\n      \"column\": \"AFFILIATION\",\n      \"properties\": {\n        \"dtype\": \"category\",\n        \"num_unique_values\": 6,\n        \"samples\": [\n          \"Independent\",\n          \"CompanySponsored\",\n          \"Other\"\n        ],\n        \"semantic_type\": \"\",\n        \"description\": \"\"\n      }\n    },\n    {\n      \"column\": \"CLASSIFICATION\",\n      \"properties\": {\n        \"dtype\": \"category\",\n        \"num_unique_values\": 71,\n        \"samples\": [\n          \"C1500\",\n          \"C1000\",\n          \"C1570\"\n        ],\n        \"semantic_type\": \"\",\n        \"description\": \"\"\n      }\n    },\n    {\n      \"column\": \"USE_CASE\",\n      \"properties\": {\n        \"dtype\": \"category\",\n        \"num_unique_values\": 5,\n        \"samples\": [\n          \"Preservation\",\n          \"Other\",\n          \"Heathcare\"\n        ],\n        \"semantic_type\": \"\",\n        \"description\": \"\"\n      }\n    },\n    {\n      \"column\": \"ORGANIZATION\",\n      \"properties\": {\n        \"dtype\": \"category\",\n        \"num_unique_values\": 4,\n        \"samples\": [\n          \"Co-operative\",\n          \"Corporation\",\n          \"Association\"\n        ],\n        \"semantic_type\": \"\",\n        \"description\": \"\"\n      }\n    },\n    {\n      \"column\": \"STATUS\",\n      \"properties\": {\n        \"dtype\": \"number\",\n        \"std\": 0,\n        \"min\": 0,\n        \"max\": 1,\n        \"num_unique_values\": 2,\n        \"samples\": [\n          0,\n          1\n        ],\n        \"semantic_type\": \"\",\n        \"description\": \"\"\n      }\n    },\n    {\n      \"column\": \"INCOME_AMT\",\n      \"properties\": {\n        \"dtype\": \"category\",\n        \"num_unique_values\": 9,\n        \"samples\": [\n          \"1M-5M\",\n          \"1-9999\"\n        ],\n        \"semantic_type\": \"\",\n        \"description\": \"\"\n      }\n    },\n    {\n      \"column\": \"SPECIAL_CONSIDERATIONS\",\n      \"properties\": {\n        \"dtype\": \"category\",\n        \"num_unique_values\": 2,\n        \"samples\": [\n          \"Y\",\n          \"N\"\n        ],\n        \"semantic_type\": \"\",\n        \"description\": \"\"\n      }\n    },\n    {\n      \"column\": \"ASK_AMT\",\n      \"properties\": {\n        \"dtype\": \"number\",\n        \"std\": 87130452,\n        \"min\": 5000,\n        \"max\": 8597806340,\n        \"num_unique_values\": 8747,\n        \"samples\": [\n          1328927,\n          42942\n        ],\n        \"semantic_type\": \"\",\n        \"description\": \"\"\n      }\n    },\n    {\n      \"column\": \"IS_SUCCESSFUL\",\n      \"properties\": {\n        \"dtype\": \"number\",\n        \"std\": 0,\n        \"min\": 0,\n        \"max\": 1,\n        \"num_unique_values\": 2,\n        \"samples\": [\n          0,\n          1\n        ],\n        \"semantic_type\": \"\",\n        \"description\": \"\"\n      }\n    }\n  ]\n}"
            }
          },
          "metadata": {},
          "execution_count": 25
        }
      ],
      "source": [
        "# Import our dependencies\n",
        "from sklearn.model_selection import train_test_split\n",
        "from sklearn.preprocessing import StandardScaler\n",
        "import pandas as pd\n",
        "import tensorflow as tf\n",
        "\n",
        "#  Import and read the charity_data.csv.\n",
        "import pandas as pd\n",
        "application_df = pd.read_csv(\"https://static.bc-edx.com/data/dl-1-2/m21/lms/starter/charity_data.csv\")\n",
        "application_df.head()"
      ]
    },
    {
      "cell_type": "code",
      "execution_count": 26,
      "metadata": {
        "id": "kTrpIYkbViq2"
      },
      "outputs": [],
      "source": [
        "# Drop the non-beneficial ID columns, 'EIN' and 'NAME'.\n",
        "application_df = application_df.drop(['EIN', 'NAME'], axis=1)\n",
        "application_df = application_df.drop(['STATUS', 'SPECIAL_CONSIDERATIONS'], axis=1)\n"
      ]
    },
    {
      "cell_type": "code",
      "execution_count": 27,
      "metadata": {
        "colab": {
          "base_uri": "https://localhost:8080/"
        },
        "id": "j-71Zac4Viq3",
        "outputId": "28eb9ef0-c91e-4cd0-a5d9-45949eefcb06"
      },
      "outputs": [
        {
          "output_type": "stream",
          "name": "stdout",
          "text": [
            "APPLICATION_TYPE      17\n",
            "AFFILIATION            6\n",
            "CLASSIFICATION        71\n",
            "USE_CASE               5\n",
            "ORGANIZATION           4\n",
            "INCOME_AMT             9\n",
            "ASK_AMT             8747\n",
            "IS_SUCCESSFUL          2\n",
            "dtype: int64\n"
          ]
        }
      ],
      "source": [
        "# Determine the number of unique values in each column.\n",
        "unique_counts = application_df.nunique()\n",
        "print(unique_counts)"
      ]
    },
    {
      "cell_type": "code",
      "execution_count": 28,
      "metadata": {
        "colab": {
          "base_uri": "https://localhost:8080/"
        },
        "id": "H7MfqX-hViq4",
        "outputId": "182fd714-fa81-46b5-f9bb-fa16c1056c7d"
      },
      "outputs": [
        {
          "output_type": "stream",
          "name": "stdout",
          "text": [
            "APPLICATION_TYPE\n",
            "T3     27037\n",
            "T4      1542\n",
            "T6      1216\n",
            "T5      1173\n",
            "T19     1065\n",
            "T8       737\n",
            "T7       725\n",
            "T10      528\n",
            "T9       156\n",
            "T13       66\n",
            "T12       27\n",
            "T2        16\n",
            "T25        3\n",
            "T14        3\n",
            "T29        2\n",
            "T15        2\n",
            "T17        1\n",
            "Name: count, dtype: int64\n"
          ]
        }
      ],
      "source": [
        "# Look at APPLICATION_TYPE value counts to identify and replace with \"Other\"\n",
        "application_counts = application_df['APPLICATION_TYPE'].value_counts()\n",
        "print(application_counts)\n"
      ]
    },
    {
      "cell_type": "code",
      "execution_count": 29,
      "metadata": {
        "colab": {
          "base_uri": "https://localhost:8080/"
        },
        "id": "rs2P84ZeViq5",
        "outputId": "b82b8c54-17b7-4a65-809d-7856409f7cf1"
      },
      "outputs": [
        {
          "output_type": "stream",
          "name": "stdout",
          "text": [
            "APPLICATION_TYPE\n",
            "T3       27037\n",
            "T4        1542\n",
            "T6        1216\n",
            "T5        1173\n",
            "T19       1065\n",
            "T8         737\n",
            "T7         725\n",
            "T10        528\n",
            "Other      276\n",
            "Name: count, dtype: int64\n"
          ]
        }
      ],
      "source": [
        "# Choose a cutoff value and create a list of application types to be replaced\n",
        "cutoff = 500\n",
        "application_counts = application_df['APPLICATION_TYPE'].value_counts()\n",
        "application_types_to_replace = list(application_counts[application_counts < cutoff].index)\n",
        "\n",
        "# Replace in dataframe\n",
        "for app in application_types_to_replace:\n",
        "    application_df['APPLICATION_TYPE'] = application_df['APPLICATION_TYPE'].replace(app, \"Other\")\n",
        "\n",
        "# Check to make sure replacement was successful\n",
        "print(application_df['APPLICATION_TYPE'].value_counts())\n"
      ]
    },
    {
      "cell_type": "code",
      "source": [
        "classification_counts = application_df['CLASSIFICATION'].value_counts()\n",
        "print(classification_counts)"
      ],
      "metadata": {
        "colab": {
          "base_uri": "https://localhost:8080/"
        },
        "id": "zZ660AZpcY6f",
        "outputId": "3c24e11f-4ce7-47c8-b4e4-b2ca20f6fd08"
      },
      "execution_count": 30,
      "outputs": [
        {
          "output_type": "stream",
          "name": "stdout",
          "text": [
            "CLASSIFICATION\n",
            "C1000    17326\n",
            "C2000     6074\n",
            "C1200     4837\n",
            "C3000     1918\n",
            "C2100     1883\n",
            "         ...  \n",
            "C4120        1\n",
            "C8210        1\n",
            "C2561        1\n",
            "C4500        1\n",
            "C2150        1\n",
            "Name: count, Length: 71, dtype: int64\n"
          ]
        }
      ]
    },
    {
      "cell_type": "code",
      "execution_count": 31,
      "metadata": {
        "colab": {
          "base_uri": "https://localhost:8080/"
        },
        "id": "DjRDdt5AViq5",
        "outputId": "ac5eb0f2-3e04-4a05-eedd-138994e98975"
      },
      "outputs": [
        {
          "output_type": "stream",
          "name": "stdout",
          "text": [
            "CLASSIFICATION\n",
            "C1000    17326\n",
            "C2000     6074\n",
            "C1200     4837\n",
            "C3000     1918\n",
            "C2100     1883\n",
            "         ...  \n",
            "C4120        1\n",
            "C8210        1\n",
            "C2561        1\n",
            "C4500        1\n",
            "C2150        1\n",
            "Name: count, Length: 71, dtype: int64\n"
          ]
        }
      ],
      "source": [
        "# Look at CLASSIFICATION value counts to identify and replace with \"Other\"\n",
        "classification_counts = application_df['CLASSIFICATION'].value_counts()\n",
        "print(classification_counts)"
      ]
    },
    {
      "cell_type": "code",
      "execution_count": 32,
      "metadata": {
        "colab": {
          "base_uri": "https://localhost:8080/"
        },
        "id": "mumnN7t5Viq6",
        "outputId": "78133ecb-7ef1-415a-91f6-d55cf25db621"
      },
      "outputs": [
        {
          "output_type": "stream",
          "name": "stdout",
          "text": [
            "CLASSIFICATION\n",
            "C1000    17326\n",
            "C2000     6074\n",
            "C1200     4837\n",
            "C3000     1918\n",
            "C2100     1883\n",
            "C7000      777\n",
            "C1700      287\n",
            "C4000      194\n",
            "C5000      116\n",
            "C1270      114\n",
            "C2700      104\n",
            "C2800       95\n",
            "C7100       75\n",
            "C1300       58\n",
            "C1280       50\n",
            "C1230       36\n",
            "C1400       34\n",
            "C7200       32\n",
            "C2300       32\n",
            "C1240       30\n",
            "C8000       20\n",
            "C7120       18\n",
            "C1500       16\n",
            "C1800       15\n",
            "C6000       15\n",
            "C1250       14\n",
            "C8200       11\n",
            "C1238       10\n",
            "C1278       10\n",
            "C1235        9\n",
            "C1237        9\n",
            "C7210        7\n",
            "C2400        6\n",
            "C1720        6\n",
            "C4100        6\n",
            "C1257        5\n",
            "C1600        5\n",
            "C1260        3\n",
            "C2710        3\n",
            "C0           3\n",
            "C3200        2\n",
            "C1234        2\n",
            "C1246        2\n",
            "C1267        2\n",
            "C1256        2\n",
            "Name: count, dtype: int64\n"
          ]
        }
      ],
      "source": [
        "classification_counts = application_df['CLASSIFICATION'].value_counts()\n",
        "classification_counts = classification_counts[classification_counts > 1]\n",
        "print(classification_counts)\n"
      ]
    },
    {
      "cell_type": "code",
      "execution_count": 33,
      "metadata": {
        "colab": {
          "base_uri": "https://localhost:8080/"
        },
        "id": "DSX4gxI1Viq6",
        "outputId": "2d5b3c2b-4259-4712-872c-8c716ad4fb8b"
      },
      "outputs": [
        {
          "output_type": "stream",
          "name": "stdout",
          "text": [
            "CLASSIFICATION\n",
            "C1000    17326\n",
            "C2000     6074\n",
            "C1200     4837\n",
            "C3000     1918\n",
            "C2100     1883\n",
            "Other     1484\n",
            "C7000      777\n",
            "Name: count, dtype: int64\n"
          ]
        }
      ],
      "source": [
        "# CHoosing a cutoff\n",
        "\n",
        "classification_counts = application_df['CLASSIFICATION'].value_counts()\n",
        "\n",
        "# Determine the cutoff dynamically based on the frequency of the sixth most frequent classification\n",
        "# This assumes the data is sorted in descending order already\n",
        "if len(classification_counts) > 5:\n",
        "    cutoff = classification_counts.iloc[5]  # Get the count of the sixth item\n",
        "else:\n",
        "    cutoff = classification_counts.iloc[-1]  # Fallback in case there are less than six classifications\n",
        "\n",
        "# Create a list of classifications to be replaced (those below the cutoff value)\n",
        "classifications_to_replace = list(classification_counts[classification_counts < cutoff].index)\n",
        "\n",
        "# Replace in dataframe\n",
        "for cls in classifications_to_replace:\n",
        "    application_df['CLASSIFICATION'] = application_df['CLASSIFICATION'].replace(cls, \"Other\")\n",
        "\n",
        "# Check to make sure replacement was successful\n",
        "print(application_df['CLASSIFICATION'].value_counts())\n"
      ]
    },
    {
      "cell_type": "code",
      "execution_count": 34,
      "metadata": {
        "id": "laVt8-EFViq7"
      },
      "outputs": [],
      "source": [
        "# Convert categorical data to numeric with `pd.get_dummies`\n",
        "application_df = pd.get_dummies(application_df)\n"
      ]
    },
    {
      "cell_type": "code",
      "source": [
        "\n",
        "# Assume 'IS_SUCCESSFUL' is the target column\n",
        "# Separate the features (X) from the target (y)\n",
        "X = application_df.drop('IS_SUCCESSFUL', axis=1)  # Drop the target column to create the feature set\n",
        "y = application_df['IS_SUCCESSFUL']  # Keep only the target column\n",
        "\n",
        "# Split the preprocessed data into a training and testing dataset\n",
        "# Using 75% of the data for training and 25% for testing by default\n",
        "X_train, X_test, y_train, y_test = train_test_split(X, y, test_size=0.25, random_state=42)\n",
        "\n",
        "# Display the sizes of the resulting datasets to confirm the split\n",
        "print(\"Training feature set size:\", X_train.shape)\n",
        "print(\"Testing feature set size:\", X_test.shape)\n",
        "print(\"Training target set size:\", y_train.shape)\n",
        "print(\"Testing target set size:\", y_test.shape)\n"
      ],
      "metadata": {
        "colab": {
          "base_uri": "https://localhost:8080/"
        },
        "id": "QUNlmrfhftEH",
        "outputId": "db6aa368-8adf-4925-9dd9-e2004af8741c"
      },
      "execution_count": 35,
      "outputs": [
        {
          "output_type": "stream",
          "name": "stdout",
          "text": [
            "Training feature set size: (25724, 41)\n",
            "Testing feature set size: (8575, 41)\n",
            "Training target set size: (25724,)\n",
            "Testing target set size: (8575,)\n"
          ]
        }
      ]
    },
    {
      "cell_type": "code",
      "execution_count": 36,
      "metadata": {
        "id": "dSthD_wVViq8"
      },
      "outputs": [],
      "source": [
        "# Create a StandardScaler instances\n",
        "scaler = StandardScaler()\n",
        "\n",
        "# Fit the StandardScaler\n",
        "X_scaler = scaler.fit(X_train)\n",
        "\n",
        "# Scale the data\n",
        "X_train_scaled = X_scaler.transform(X_train)\n",
        "X_test_scaled = X_scaler.transform(X_test)"
      ]
    },
    {
      "cell_type": "markdown",
      "metadata": {
        "id": "oKtUgX1lViq8"
      },
      "source": [
        "## Compile, Train and Evaluate the Model"
      ]
    },
    {
      "cell_type": "code",
      "execution_count": 37,
      "metadata": {
        "colab": {
          "base_uri": "https://localhost:8080/"
        },
        "id": "8pTFrGnkViq9",
        "outputId": "de7bee01-328e-41d7-d7e3-e55feb733d3c"
      },
      "outputs": [
        {
          "output_type": "stream",
          "name": "stdout",
          "text": [
            "Model: \"sequential_1\"\n",
            "_________________________________________________________________\n",
            " Layer (type)                Output Shape              Param #   \n",
            "=================================================================\n",
            " dense_4 (Dense)             (None, 80)                3360      \n",
            "                                                                 \n",
            " dense_5 (Dense)             (None, 50)                4050      \n",
            "                                                                 \n",
            " dense_6 (Dense)             (None, 30)                1530      \n",
            "                                                                 \n",
            " dense_7 (Dense)             (None, 1)                 31        \n",
            "                                                                 \n",
            "=================================================================\n",
            "Total params: 8971 (35.04 KB)\n",
            "Trainable params: 8971 (35.04 KB)\n",
            "Non-trainable params: 0 (0.00 Byte)\n",
            "_________________________________________________________________\n"
          ]
        }
      ],
      "source": [
        "input_features = X_train_scaled.shape[1]\n",
        "\n",
        "\n",
        "\n",
        "# Define the model - deep neural net, changing activation functions\n",
        "nn3 = tf.keras.models.Sequential()\n",
        "nn3.add(tf.keras.layers.Dense(units=80, activation='tanh', input_dim=input_features))  # Changed to tanh for the first layer\n",
        "nn3.add(tf.keras.layers.Dense(units=50, activation='relu'))  # Second layer remains relu\n",
        "nn3.add(tf.keras.layers.Dense(units=30, activation='relu'))  # Third layer remains relu\n",
        "nn3.add(tf.keras.layers.Dense(units=1, activation='sigmoid'))  # Output layer\n",
        "\n",
        "\n",
        "# Check the structure of the model\n",
        "nn3.summary()"
      ]
    },
    {
      "cell_type": "code",
      "execution_count": 38,
      "metadata": {
        "id": "GRb2VvFMViq9"
      },
      "outputs": [],
      "source": [
        "# Compile the model\n",
        "nn3.compile(loss='binary_crossentropy', optimizer='adam', metrics=['accuracy'])\n",
        "\n"
      ]
    },
    {
      "cell_type": "code",
      "source": [
        "# Train the model\n",
        "history3 = nn3.fit(X_train_scaled, y_train, epochs=50, batch_size=128, validation_data=(X_test_scaled, y_test))\n",
        "\n"
      ],
      "metadata": {
        "colab": {
          "base_uri": "https://localhost:8080/"
        },
        "id": "-8WcP5iIith5",
        "outputId": "805ee289-0525-46bc-e7a3-8a2a22a335df"
      },
      "execution_count": 39,
      "outputs": [
        {
          "output_type": "stream",
          "name": "stdout",
          "text": [
            "Epoch 1/50\n",
            "201/201 [==============================] - 2s 4ms/step - loss: 0.5688 - accuracy: 0.7179 - val_loss: 0.5600 - val_accuracy: 0.7234\n",
            "Epoch 2/50\n",
            "201/201 [==============================] - 1s 4ms/step - loss: 0.5535 - accuracy: 0.7294 - val_loss: 0.5562 - val_accuracy: 0.7224\n",
            "Epoch 3/50\n",
            "201/201 [==============================] - 1s 4ms/step - loss: 0.5506 - accuracy: 0.7291 - val_loss: 0.5557 - val_accuracy: 0.7291\n",
            "Epoch 4/50\n",
            "201/201 [==============================] - 1s 4ms/step - loss: 0.5496 - accuracy: 0.7313 - val_loss: 0.5551 - val_accuracy: 0.7263\n",
            "Epoch 5/50\n",
            "201/201 [==============================] - 1s 3ms/step - loss: 0.5474 - accuracy: 0.7320 - val_loss: 0.5541 - val_accuracy: 0.7279\n",
            "Epoch 6/50\n",
            "201/201 [==============================] - 1s 3ms/step - loss: 0.5466 - accuracy: 0.7316 - val_loss: 0.5526 - val_accuracy: 0.7284\n",
            "Epoch 7/50\n",
            "201/201 [==============================] - 1s 4ms/step - loss: 0.5456 - accuracy: 0.7331 - val_loss: 0.5540 - val_accuracy: 0.7332\n",
            "Epoch 8/50\n",
            "201/201 [==============================] - 1s 3ms/step - loss: 0.5455 - accuracy: 0.7339 - val_loss: 0.5517 - val_accuracy: 0.7326\n",
            "Epoch 9/50\n",
            "201/201 [==============================] - 1s 3ms/step - loss: 0.5448 - accuracy: 0.7335 - val_loss: 0.5532 - val_accuracy: 0.7292\n",
            "Epoch 10/50\n",
            "201/201 [==============================] - 1s 3ms/step - loss: 0.5442 - accuracy: 0.7340 - val_loss: 0.5546 - val_accuracy: 0.7269\n",
            "Epoch 11/50\n",
            "201/201 [==============================] - 1s 3ms/step - loss: 0.5439 - accuracy: 0.7333 - val_loss: 0.5527 - val_accuracy: 0.7292\n",
            "Epoch 12/50\n",
            "201/201 [==============================] - 1s 3ms/step - loss: 0.5434 - accuracy: 0.7337 - val_loss: 0.5520 - val_accuracy: 0.7258\n",
            "Epoch 13/50\n",
            "201/201 [==============================] - 1s 5ms/step - loss: 0.5433 - accuracy: 0.7339 - val_loss: 0.5525 - val_accuracy: 0.7311\n",
            "Epoch 14/50\n",
            "201/201 [==============================] - 1s 5ms/step - loss: 0.5430 - accuracy: 0.7339 - val_loss: 0.5525 - val_accuracy: 0.7312\n",
            "Epoch 15/50\n",
            "201/201 [==============================] - 1s 5ms/step - loss: 0.5425 - accuracy: 0.7340 - val_loss: 0.5530 - val_accuracy: 0.7298\n",
            "Epoch 16/50\n",
            "201/201 [==============================] - 1s 4ms/step - loss: 0.5420 - accuracy: 0.7353 - val_loss: 0.5510 - val_accuracy: 0.7268\n",
            "Epoch 17/50\n",
            "201/201 [==============================] - 1s 3ms/step - loss: 0.5424 - accuracy: 0.7345 - val_loss: 0.5513 - val_accuracy: 0.7299\n",
            "Epoch 18/50\n",
            "201/201 [==============================] - 1s 3ms/step - loss: 0.5412 - accuracy: 0.7358 - val_loss: 0.5537 - val_accuracy: 0.7318\n",
            "Epoch 19/50\n",
            "201/201 [==============================] - 1s 3ms/step - loss: 0.5411 - accuracy: 0.7357 - val_loss: 0.5539 - val_accuracy: 0.7284\n",
            "Epoch 20/50\n",
            "201/201 [==============================] - 1s 3ms/step - loss: 0.5415 - accuracy: 0.7345 - val_loss: 0.5521 - val_accuracy: 0.7299\n",
            "Epoch 21/50\n",
            "201/201 [==============================] - 1s 4ms/step - loss: 0.5411 - accuracy: 0.7351 - val_loss: 0.5512 - val_accuracy: 0.7306\n",
            "Epoch 22/50\n",
            "201/201 [==============================] - 1s 3ms/step - loss: 0.5402 - accuracy: 0.7361 - val_loss: 0.5535 - val_accuracy: 0.7268\n",
            "Epoch 23/50\n",
            "201/201 [==============================] - 1s 3ms/step - loss: 0.5404 - accuracy: 0.7347 - val_loss: 0.5516 - val_accuracy: 0.7256\n",
            "Epoch 24/50\n",
            "201/201 [==============================] - 1s 3ms/step - loss: 0.5400 - accuracy: 0.7366 - val_loss: 0.5522 - val_accuracy: 0.7277\n",
            "Epoch 25/50\n",
            "201/201 [==============================] - 1s 3ms/step - loss: 0.5403 - accuracy: 0.7367 - val_loss: 0.5515 - val_accuracy: 0.7320\n",
            "Epoch 26/50\n",
            "201/201 [==============================] - 1s 3ms/step - loss: 0.5398 - accuracy: 0.7371 - val_loss: 0.5527 - val_accuracy: 0.7320\n",
            "Epoch 27/50\n",
            "201/201 [==============================] - 1s 3ms/step - loss: 0.5393 - accuracy: 0.7368 - val_loss: 0.5538 - val_accuracy: 0.7294\n",
            "Epoch 28/50\n",
            "201/201 [==============================] - 1s 6ms/step - loss: 0.5391 - accuracy: 0.7361 - val_loss: 0.5512 - val_accuracy: 0.7308\n",
            "Epoch 29/50\n",
            "201/201 [==============================] - 2s 10ms/step - loss: 0.5391 - accuracy: 0.7370 - val_loss: 0.5509 - val_accuracy: 0.7310\n",
            "Epoch 30/50\n",
            "201/201 [==============================] - 2s 12ms/step - loss: 0.5392 - accuracy: 0.7364 - val_loss: 0.5545 - val_accuracy: 0.7257\n",
            "Epoch 31/50\n",
            "201/201 [==============================] - 2s 10ms/step - loss: 0.5393 - accuracy: 0.7359 - val_loss: 0.5512 - val_accuracy: 0.7305\n",
            "Epoch 32/50\n",
            "201/201 [==============================] - 2s 9ms/step - loss: 0.5391 - accuracy: 0.7364 - val_loss: 0.5528 - val_accuracy: 0.7275\n",
            "Epoch 33/50\n",
            "201/201 [==============================] - 1s 3ms/step - loss: 0.5387 - accuracy: 0.7371 - val_loss: 0.5526 - val_accuracy: 0.7291\n",
            "Epoch 34/50\n",
            "201/201 [==============================] - 1s 3ms/step - loss: 0.5383 - accuracy: 0.7374 - val_loss: 0.5538 - val_accuracy: 0.7292\n",
            "Epoch 35/50\n",
            "201/201 [==============================] - 1s 3ms/step - loss: 0.5384 - accuracy: 0.7374 - val_loss: 0.5545 - val_accuracy: 0.7305\n",
            "Epoch 36/50\n",
            "201/201 [==============================] - 1s 3ms/step - loss: 0.5385 - accuracy: 0.7362 - val_loss: 0.5533 - val_accuracy: 0.7277\n",
            "Epoch 37/50\n",
            "201/201 [==============================] - 1s 3ms/step - loss: 0.5378 - accuracy: 0.7381 - val_loss: 0.5524 - val_accuracy: 0.7285\n",
            "Epoch 38/50\n",
            "201/201 [==============================] - 1s 4ms/step - loss: 0.5381 - accuracy: 0.7378 - val_loss: 0.5523 - val_accuracy: 0.7306\n",
            "Epoch 39/50\n",
            "201/201 [==============================] - 1s 3ms/step - loss: 0.5377 - accuracy: 0.7379 - val_loss: 0.5523 - val_accuracy: 0.7301\n",
            "Epoch 40/50\n",
            "201/201 [==============================] - 1s 4ms/step - loss: 0.5378 - accuracy: 0.7379 - val_loss: 0.5535 - val_accuracy: 0.7284\n",
            "Epoch 41/50\n",
            "201/201 [==============================] - 1s 4ms/step - loss: 0.5377 - accuracy: 0.7377 - val_loss: 0.5526 - val_accuracy: 0.7305\n",
            "Epoch 42/50\n",
            "201/201 [==============================] - 1s 4ms/step - loss: 0.5377 - accuracy: 0.7370 - val_loss: 0.5544 - val_accuracy: 0.7308\n",
            "Epoch 43/50\n",
            "201/201 [==============================] - 1s 3ms/step - loss: 0.5371 - accuracy: 0.7376 - val_loss: 0.5532 - val_accuracy: 0.7286\n",
            "Epoch 44/50\n",
            "201/201 [==============================] - 1s 6ms/step - loss: 0.5375 - accuracy: 0.7379 - val_loss: 0.5534 - val_accuracy: 0.7272\n",
            "Epoch 45/50\n",
            "201/201 [==============================] - 1s 6ms/step - loss: 0.5372 - accuracy: 0.7385 - val_loss: 0.5521 - val_accuracy: 0.7294\n",
            "Epoch 46/50\n",
            "201/201 [==============================] - 1s 6ms/step - loss: 0.5366 - accuracy: 0.7386 - val_loss: 0.5549 - val_accuracy: 0.7272\n",
            "Epoch 47/50\n",
            "201/201 [==============================] - 1s 4ms/step - loss: 0.5371 - accuracy: 0.7382 - val_loss: 0.5519 - val_accuracy: 0.7304\n",
            "Epoch 48/50\n",
            "201/201 [==============================] - 1s 3ms/step - loss: 0.5370 - accuracy: 0.7389 - val_loss: 0.5545 - val_accuracy: 0.7289\n",
            "Epoch 49/50\n",
            "201/201 [==============================] - 1s 3ms/step - loss: 0.5369 - accuracy: 0.7391 - val_loss: 0.5528 - val_accuracy: 0.7321\n",
            "Epoch 50/50\n",
            "201/201 [==============================] - 1s 3ms/step - loss: 0.5368 - accuracy: 0.7385 - val_loss: 0.5536 - val_accuracy: 0.7279\n"
          ]
        }
      ]
    },
    {
      "cell_type": "code",
      "source": [
        "# Evaluate the model using the test data\n",
        "model_loss, model_accuracy = nn3.evaluate(X_test_scaled,y_test,verbose=2)\n",
        "print(f\"Loss: {model_loss}, Accuracy: {model_accuracy}\")"
      ],
      "metadata": {
        "colab": {
          "base_uri": "https://localhost:8080/"
        },
        "id": "4W0gHcUjlNNB",
        "outputId": "0b50ea32-4dbb-4208-b894-2c5d867d2e11"
      },
      "execution_count": 40,
      "outputs": [
        {
          "output_type": "stream",
          "name": "stdout",
          "text": [
            "268/268 - 0s - loss: 0.5536 - accuracy: 0.7279 - 357ms/epoch - 1ms/step\n",
            "Loss: 0.5535884499549866, Accuracy: 0.7279300093650818\n"
          ]
        }
      ]
    },
    {
      "cell_type": "code",
      "execution_count": 41,
      "metadata": {
        "colab": {
          "base_uri": "https://localhost:8080/"
        },
        "id": "nEcNouJIViq-",
        "outputId": "c8c22f67-0512-40e6-d5fa-6064b896fcd6"
      },
      "outputs": [
        {
          "output_type": "stream",
          "name": "stderr",
          "text": [
            "/usr/local/lib/python3.10/dist-packages/keras/src/engine/training.py:3103: UserWarning: You are saving your model as an HDF5 file via `model.save()`. This file format is considered legacy. We recommend using instead the native Keras format, e.g. `model.save('my_model.keras')`.\n",
            "  saving_api.save_model(\n"
          ]
        }
      ],
      "source": [
        "# Save the model to HDF5 file\n",
        "nn3.save('AlphabetSoupCharity_Optimization.h5')  # The .h5 extension indicates HDF5 format\n"
      ]
    }
  ],
  "metadata": {
    "kernelspec": {
      "display_name": "Python 3",
      "name": "python3"
    },
    "language_info": {
      "codemirror_mode": {
        "name": "ipython",
        "version": 3
      },
      "file_extension": ".py",
      "mimetype": "text/x-python",
      "name": "python",
      "nbconvert_exporter": "python",
      "pygments_lexer": "ipython3",
      "version": "3.-1.-1"
    },
    "vscode": {
      "interpreter": {
        "hash": "31f2aee4e71d21fbe5cf8b01ff0e069b9275f58929596ceb00d14d90e3e16cd6"
      }
    },
    "colab": {
      "provenance": []
    }
  },
  "nbformat": 4,
  "nbformat_minor": 0
}